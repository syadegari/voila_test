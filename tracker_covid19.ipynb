{
 "cells": [
  {
   "cell_type": "markdown",
   "metadata": {},
   "source": [
    "Check for the required packages"
   ]
  },
  {
   "cell_type": "markdown",
   "metadata": {},
   "source": [
    "Check out the repository"
   ]
  },
  {
   "cell_type": "code",
   "execution_count": 1,
   "metadata": {},
   "outputs": [
    {
     "name": "stdout",
     "output_type": "stream",
     "text": [
      "Already up to date.\n"
     ]
    }
   ],
   "source": [
    "%%bash \n",
    "\n",
    "if [[ -d covid-19 ]]; then\n",
    "    cd covid-19\n",
    "    git pull\n",
    "    cd ..\n",
    "else\n",
    "    git clone https://github.com/datasets/covid-19\n",
    "fi"
   ]
  },
  {
   "cell_type": "markdown",
   "metadata": {},
   "source": [
    "And the packages we're going to use for the visualization"
   ]
  },
  {
   "cell_type": "code",
   "execution_count": 2,
   "metadata": {},
   "outputs": [],
   "source": [
    "import numpy as np\n",
    "import pandas as pd\n",
    "import matplotlib.pyplot as plt\n",
    "import seaborn as sns"
   ]
  },
  {
   "cell_type": "markdown",
   "metadata": {},
   "source": [
    "Read the aggregated data of all countires"
   ]
  },
  {
   "cell_type": "code",
   "execution_count": 3,
   "metadata": {},
   "outputs": [],
   "source": [
    "df = pd.read_csv(\"./covid-19/data/countries-aggregated.csv\")"
   ]
  },
  {
   "cell_type": "code",
   "execution_count": 4,
   "metadata": {},
   "outputs": [
    {
     "data": {
      "text/plain": [
       "Index(['Date', 'Country', 'Confirmed', 'Recovered', 'Deaths'], dtype='object')"
      ]
     },
     "execution_count": 4,
     "metadata": {},
     "output_type": "execute_result"
    }
   ],
   "source": [
    "df.columns"
   ]
  },
  {
   "cell_type": "markdown",
   "metadata": {},
   "source": [
    "Lower the cases of all the columns to make it easier to work with names"
   ]
  },
  {
   "cell_type": "code",
   "execution_count": 5,
   "metadata": {},
   "outputs": [],
   "source": [
    "df.columns = map(str.lower, df.columns)"
   ]
  },
  {
   "cell_type": "markdown",
   "metadata": {},
   "source": [
    "Clean up the names and make a list of all the countries"
   ]
  },
  {
   "cell_type": "code",
   "execution_count": 6,
   "metadata": {},
   "outputs": [],
   "source": [
    "country_names = [name for name in list(set(df['country']))]"
   ]
  },
  {
   "cell_type": "markdown",
   "metadata": {},
   "source": [
    "Create a separate dataframe for each country and filter out those with no cases"
   ]
  },
  {
   "cell_type": "code",
   "execution_count": 7,
   "metadata": {},
   "outputs": [],
   "source": [
    "dfs = {country: df[df['country'] == country] for country in country_names}"
   ]
  },
  {
   "cell_type": "code",
   "execution_count": 8,
   "metadata": {},
   "outputs": [],
   "source": [
    "dfs = {country: dfs[country] for country in dfs if len(dfs[country]) > 0}"
   ]
  },
  {
   "cell_type": "markdown",
   "metadata": {},
   "source": [
    "We're going to need the new cases for each day (call it `new_cases`). The `pd.option` is a workaround so we don't get the warning message"
   ]
  },
  {
   "cell_type": "code",
   "execution_count": 9,
   "metadata": {},
   "outputs": [],
   "source": [
    "# https://stackoverflow.com/questions/21463589/pandas-chained-assignments\n",
    "pd.options.mode.chained_assignment = None\n",
    "\n",
    "def add_new_cases(df):\n",
    "    df.loc[:, 'new_cases'] = df['confirmed'].diff().fillna(0, downcast='infer')\n",
    "    return df\n",
    "\n",
    "def add_new_deaths(df):\n",
    "    df.loc[:, 'new_deaths'] = df['deaths'].diff().fillna(0, downcast='infer')\n",
    "    return df"
   ]
  },
  {
   "cell_type": "markdown",
   "metadata": {},
   "source": [
    "`dfs` contains all the data we'll work with later:"
   ]
  },
  {
   "cell_type": "code",
   "execution_count": 10,
   "metadata": {},
   "outputs": [],
   "source": [
    "dfs = {country: add_new_deaths(add_new_cases(dfs[country])) for country in country_names}"
   ]
  },
  {
   "cell_type": "markdown",
   "metadata": {},
   "source": [
    "We only consider countries at the top of the list to declutter the plot area. You can change the threshold or ignore it, but especially for debugging it's a good idea to only work with a handful of countries at the top of the list"
   ]
  },
  {
   "cell_type": "code",
   "execution_count": 11,
   "metadata": {},
   "outputs": [],
   "source": [
    "max_cases = 30000\n",
    "\n",
    "countries_large = [country_name for country_name in country_names if dfs[country_name]['confirmed'].iloc[-1] > max_cases]"
   ]
  },
  {
   "cell_type": "markdown",
   "metadata": {},
   "source": [
    "A one-liner for calculating moving averages "
   ]
  },
  {
   "cell_type": "code",
   "execution_count": 12,
   "metadata": {},
   "outputs": [],
   "source": [
    "moving_average = lambda df, n: df.rolling(n).mean().fillna(0).map(np.floor).map(int)"
   ]
  },
  {
   "cell_type": "markdown",
   "metadata": {},
   "source": [
    "And the plot prototype is something like this:"
   ]
  },
  {
   "cell_type": "code",
   "execution_count": 13,
   "metadata": {},
   "outputs": [],
   "source": [
    "cl = [sns.color_palette(\"Blues_r\", 5)[3]] * len(dfs['Germany'])\n",
    "cl0 = sns.color_palette(\"Blues_r\", 5)[3]"
   ]
  },
  {
   "cell_type": "markdown",
   "metadata": {},
   "source": [
    "I didn't put a check for `ipywidgets` package. You can find the installation instructions in the following [page](https://ipywidgets.readthedocs.io/en/latest/user_install.html:link)"
   ]
  },
  {
   "cell_type": "code",
   "execution_count": 14,
   "metadata": {},
   "outputs": [],
   "source": [
    "from ipywidgets import Layout, Output, HBox, VBox, Label, Button\n",
    "from ipywidgets import RadioButtons, IntRangeSlider, IntSlider, GridspecLayout, Checkbox, ColorPicker, Textarea, Dropdown, IntText, FloatText"
   ]
  },
  {
   "cell_type": "code",
   "execution_count": 15,
   "metadata": {},
   "outputs": [],
   "source": [
    "country_default = countries_large[0]\n",
    "day_default = 5\n",
    "color_default = 'red'\n",
    "thickness_default = 1.5"
   ]
  },
  {
   "cell_type": "code",
   "execution_count": 21,
   "metadata": {},
   "outputs": [],
   "source": [
    "%matplotlib widget\n",
    "\n",
    "output = Output()\n",
    "\n",
    "with output:\n",
    "    fig, ax = plt.subplots(constrained_layout=True, figsize=(12, 8))\n",
    "\n",
    "fig.canvas.toolbar_position = 'bottom'    "
   ]
  },
  {
   "cell_type": "markdown",
   "metadata": {},
   "source": [
    "The list of widgets and their callbacks are as follows"
   ]
  },
  {
   "cell_type": "code",
   "execution_count": 17,
   "metadata": {},
   "outputs": [],
   "source": [
    "# Widgets\n",
    "layout_checkbox = Layout(width='50px', height='50px')\n",
    "layout_list = Layout(width='90px', height='30px')\n",
    "\n",
    "mov_ave = Checkbox(description='moving average')\n",
    "log_scale = Checkbox(description='log scale')\n",
    "y_lim = Checkbox(description='y limit', layout={'width': '100pt'})\n",
    "\n",
    "mov_ave_slider = IntSlider(description='mov ave days',\n",
    "                           value=day_default, min=2, max=10,\n",
    "                          layout={'width': '170pt'})\n",
    "mov_ave_slider.disabled = True\n",
    "\n",
    "color_picker = ColorPicker(description='mov ave color',\n",
    "                           layout={'width': '150pt'})\n",
    "color_picker.value = color_default\n",
    "thickness = FloatText(description='mov ave thickness',\n",
    "                      step=0.1,\n",
    "                      layout={'width': '150pt'})\n",
    "thickness.value = 1.5\n",
    "\n",
    "country_list = Dropdown(description='Country',\n",
    "                        value=country_default,\n",
    "                        options=countries_large,\n",
    "                       layout={'width': '150pt'})\n",
    "\n",
    "# helpers\n",
    "def set_all_visible_except(name):\n",
    "    for _ in h_plt:\n",
    "        h_plt[_].set_visible(True)\n",
    "    h_plt[name].set_visible(False)\n",
    "\n",
    "\n",
    "def set_ylim_bottom():\n",
    "    if log_scale.value:\n",
    "        ax.set_ylim(bottom=1.0)\n",
    "    else:\n",
    "        ax.set_ylim(bottom=0.0)\n",
    "        \n",
    "        \n",
    "def set_ylim_top(name):\n",
    "    ax.set_ylim(top=dfs[name]['new_cases'].max() * 1.1)\n",
    "    \n",
    "\n",
    "# Callbacks\n",
    "def update_ylim(value):\n",
    "    if value:\n",
    "        set_ylim_top(country_list.value)\n",
    "        set_ylim_bottom()\n",
    "    else:\n",
    "        ax.set_ylim(top=80000)\n",
    "        set_ylim_bottom()\n",
    "        \n",
    "\n",
    "def update_country_list(value):\n",
    "    df = dfs[value]\n",
    "    for h, y in zip(h_bar, df['new_cases']):\n",
    "        h.set_height(y)\n",
    "    set_all_visible_except(value)\n",
    "    update_ylim(y_lim.value)\n",
    "    update_mov_ave(mov_ave.value)\n",
    "\n",
    "\n",
    "def update_mov_ave(value):\n",
    "    if value:\n",
    "        mov_ave_slider.disabled = False\n",
    "        #draw\n",
    "        update_mov_ave_slider(mov_ave_slider.value)\n",
    "        h_ave.set_visible(True)\n",
    "    else:\n",
    "        mov_ave_slider.disabled = True\n",
    "        h_ave.set_visible(False)\n",
    "\n",
    "def update_mov_ave_slider(value):\n",
    "    h_ave.set_ydata(moving_average(dfs[country_list.value]['new_cases'],\n",
    "                                       mov_ave_slider.value))\n",
    "\n",
    "\n",
    "def update_log_scale(value):\n",
    "    if value:\n",
    "        set_ylim_bottom()\n",
    "        ax.set_yscale('log')\n",
    "    else:\n",
    "        ax.set_yscale('linear')        \n",
    "        set_ylim_bottom()        \n",
    "\n",
    "\n",
    "def update_mov_ave_color(value):\n",
    "    h_ave.set_color(value)\n",
    "\n",
    "\n",
    "def update_mov_ave_thicknes(value):\n",
    "    h_ave.set_lw(value)"
   ]
  },
  {
   "cell_type": "markdown",
   "metadata": {},
   "source": [
    "The use of `lambda` in the followings is for extracting the `.new` from the values, so we can use callback functions indirectly when updates on other widget. For exmaple, an update on log scale has to take care of the lower limit of the plot, or an update on country list has to recalculate the limits of the plot. There is probably some idiomatic way to do it without lambda expression though but I couldn't find it in the documentation."
   ]
  },
  {
   "cell_type": "code",
   "execution_count": 18,
   "metadata": {},
   "outputs": [],
   "source": [
    "country_list.observe(lambda x: update_country_list(x.new), 'value')\n",
    "mov_ave.observe(lambda x: update_mov_ave(x.new), 'value')\n",
    "mov_ave_slider.observe(lambda x: update_mov_ave_slider(x.new), 'value')\n",
    "y_lim.observe(lambda x: update_ylim(x.new), 'value')\n",
    "log_scale.observe(lambda x: update_log_scale(x.new), 'value')\n",
    "color_picker.observe(lambda x: update_mov_ave_color(x.new), 'value')\n",
    "thickness.observe(lambda x: update_mov_ave_thicknes(x.new), 'value')"
   ]
  },
  {
   "cell_type": "markdown",
   "metadata": {},
   "source": [
    "We just replicate the plots from the prototype and save the handles since we need them to modify the plots in the callbacks"
   ]
  },
  {
   "cell_type": "code",
   "execution_count": 19,
   "metadata": {},
   "outputs": [],
   "source": [
    "# Plots h_plt, h_bar and h_ave are dictionary to all the plots' handles, \n",
    "\n",
    "pltargs = {'lw': 0.2, 'color': 'b'}\n",
    "h_plt = {}\n",
    "for country in countries_large:\n",
    "    df = dfs[country]\n",
    "    h_plt[country], = ax.plot(df['date'], df['new_cases'], **pltargs)\n",
    "\n",
    "df = dfs[country_list.value]\n",
    "\n",
    "h_bar = ax.bar(df['date'], df['new_cases'], color=cl0)\n",
    "set_all_visible_except(country_list.value)\n",
    "\n",
    "h_ave, = ax.plot(df['date'], moving_average(df['new_cases'], 5), \n",
    "                color=color_default, lw=thickness_default)\n",
    "h_ave.set_visible(False)\n",
    "\n",
    "ax.xaxis.set_major_locator(plt.MaxNLocator(4))"
   ]
  },
  {
   "cell_type": "markdown",
   "metadata": {},
   "source": [
    "Putting it all together with `GridspecLayout`, which is similar to `matplotlib.gridspec.GridSpec`"
   ]
  },
  {
   "cell_type": "code",
   "execution_count": 20,
   "metadata": {
    "code_folding": []
   },
   "outputs": [
    {
     "data": {
      "application/vnd.jupyter.widget-view+json": {
       "model_id": "8a4b4ebf0fc340efa6309bf9d5ee161d",
       "version_major": 2,
       "version_minor": 0
      },
      "text/plain": [
       "GridspecLayout(children=(Dropdown(description='Country', layout=Layout(grid_area='widget001', width='150pt'), …"
      ]
     },
     "metadata": {},
     "output_type": "display_data"
    }
   ],
   "source": [
    "grid = GridspecLayout(n_rows=12, n_columns=4, width='100%')\n",
    "grid[0, 0] = country_list\n",
    "grid[0, 1] = mov_ave\n",
    "grid[0, 2] = log_scale\n",
    "grid[2, 0] = y_lim\n",
    "\n",
    "grid[1, 0] = mov_ave_slider\n",
    "\n",
    "grid[1, 1] = color_picker\n",
    "grid[1, 2] = thickness\n",
    "grid[3:, :] = output\n",
    "\n",
    "update_ylim(y_lim.value)\n",
    "#update_mov_ave(mov_ave.value)\n",
    "update_log_scale(log_scale.value)\n",
    "\n",
    "\n",
    "grid\n",
    "\n"
   ]
  },
  {
   "cell_type": "markdown",
   "metadata": {},
   "source": [
    "### TODOs:\n",
    "\n",
    "- A date range selector\n",
    "- Switch between new cases and new cases of deaths\n",
    "- show the speed of increase (2x) in days\n",
    "- Better arrangement of the widgets"
   ]
  }
 ],
 "metadata": {
  "@webio": {
   "lastCommId": null,
   "lastKernelId": null
  },
  "kernelspec": {
   "display_name": "Python 3",
   "language": "python",
   "name": "python3"
  },
  "language_info": {
   "codemirror_mode": {
    "name": "ipython",
    "version": 3
   },
   "file_extension": ".py",
   "mimetype": "text/x-python",
   "name": "python",
   "nbconvert_exporter": "python",
   "pygments_lexer": "ipython3",
   "version": "3.8.2"
  }
 },
 "nbformat": 4,
 "nbformat_minor": 2
}
